{
  "nbformat": 4,
  "nbformat_minor": 0,
  "metadata": {
    "colab": {
      "provenance": [],
      "authorship_tag": "ABX9TyPO8HXakNe1NVFcYP0kfbQK",
      "include_colab_link": true
    },
    "kernelspec": {
      "name": "python3",
      "display_name": "Python 3"
    },
    "language_info": {
      "name": "python"
    }
  },
  "cells": [
    {
      "cell_type": "markdown",
      "metadata": {
        "id": "view-in-github",
        "colab_type": "text"
      },
      "source": [
        "<a href=\"https://colab.research.google.com/github/diana804/REDES-NEURONALES/blob/main/ModeloGeneralRN.ipynb\" target=\"_parent\"><img src=\"https://colab.research.google.com/assets/colab-badge.svg\" alt=\"Open In Colab\"/></a>"
      ]
    },
    {
      "cell_type": "code",
      "source": [
        "import numpy as np"
      ],
      "metadata": {
        "id": "8wKcymoTZVyc"
      },
      "execution_count": null,
      "outputs": []
    },
    {
      "cell_type": "code",
      "source": [
        "# Definir la función de activación sigmoide\n",
        "def sigmoid(x):\n",
        "    return 1 / (1 + np.exp(-x))\n",
        "\n",
        "# Modelo de la neurona artificial\n",
        "def neurona_artificial(entradas, pesos, bias):\n",
        "    # Calcular la suma ponderada\n",
        "    z = np.dot(entradas, pesos) + bias\n",
        "    # Aplicar la función de activación\n",
        "    salida = sigmoid(z)\n",
        "    return salida"
      ],
      "metadata": {
        "id": "5REEkBC1ZnlP"
      },
      "execution_count": null,
      "outputs": []
    },
    {
      "cell_type": "code",
      "source": [
        "# Entradas (x1, x2, x3)\n",
        "entradas = np.array([0.5, -0.2, 0.8])\n",
        "\n",
        "# Pesos correspondientes a cada entrada (w1, w2, w3)\n",
        "pesos = np.array([0.4, 0.9, -0.3])\n",
        "\n",
        "# Bias (umbral)\n",
        "bias = 0.5\n"
      ],
      "metadata": {
        "id": "z32pg3fiZw0T"
      },
      "execution_count": null,
      "outputs": []
    },
    {
      "cell_type": "code",
      "source": [
        "# Calcular la salida de la neurona\n",
        "salida = neurona_artificial(entradas, pesos, bias)\n",
        "\n",
        "# Mostrar el resultado\n",
        "print(f\"La salida de la neurona es: {salida}\")"
      ],
      "metadata": {
        "colab": {
          "base_uri": "https://localhost:8080/"
        },
        "id": "S8U_hnbDaMxE",
        "outputId": "5adaf776-7743-46e3-8905-6e908fa6f290"
      },
      "execution_count": null,
      "outputs": [
        {
          "output_type": "stream",
          "name": "stdout",
          "text": [
            "La salida de la neurona es: 0.569546223939229\n"
          ]
        }
      ]
    }
  ]
}